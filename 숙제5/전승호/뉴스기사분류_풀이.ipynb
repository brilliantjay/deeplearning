{
 "cells": [
  {
   "cell_type": "markdown",
   "metadata": {},
   "source": [
    "## 목차\n",
    "* [참고문서](#reference)\n",
    "* [데이터 로드](#load-data)\n",
    "* [데이터 확인](#select-data)"
   ]
  },
  {
   "cell_type": "markdown",
   "metadata": {},
   "source": [
    "## 참고문서<a id=\"reference\"></a>"
   ]
  },
  {
   "cell_type": "markdown",
   "metadata": {},
   "source": [
    "## 데이터 로드<a id=\"load-data\"></a>"
   ]
  },
  {
   "cell_type": "code",
   "execution_count": 13,
   "metadata": {},
   "outputs": [
    {
     "name": "stdout",
     "output_type": "stream",
     "text": [
      "훈련 데이터셋 8982\n",
      "테스트 데이터셋 2246\n",
      "분류 46\n"
     ]
    }
   ],
   "source": [
    "from keras.datasets import reuters\n",
    "\n",
    "# 등장 빈도 순위 1~100위에 해당하는 단어만 사용\n",
    "# x: 뉴스에 대한 단어 tokenizer가 완료된 데이터셋\n",
    "# y: 뉴스 카테고리\n",
    "# 테스트 데이터셋은 20%만 split\n",
    "(X_train, Y_train), (X_test, Y_test) = reuters.load_data(num_words=1000, test_split=0.2)\n",
    "\n",
    "print('훈련 데이터셋', len(X_train))\n",
    "print('테스트 데이터셋', len(X_test))\n",
    "# 분류가 0부터 시작하기때문에 +1을 해주었다.\n",
    "print('분류', max(Y_train)+1)"
   ]
  },
  {
   "cell_type": "markdown",
   "metadata": {},
   "source": [
    "## 데이터 확인<a id=\"select-data\"></a>"
   ]
  },
  {
   "cell_type": "code",
   "execution_count": 2,
   "metadata": {},
   "outputs": [
    {
     "name": "stdout",
     "output_type": "stream",
     "text": [
      "최대 길이 2376\n",
      "평균 길이 146\n"
     ]
    },
    {
     "data": {
      "image/png": "[encoded data removed]",
      "text/plain": [
       "<Figure size 432x288 with 1 Axes>"
      ]
     },
     "metadata": {},
     "output_type": "display_data"
    }
   ],
   "source": [
    "print('최대 길이 {}'.format(max(len(word) for word in x_train)))\n",
    "print('평균 길이 {}'.format(round(sum(map(len, x_train))/len(x_train))))\n",
    "\n",
    "import matplotlib.pyplot as plt\n",
    "plt.hist([len(s) for s in x_train], bins=50)\n",
    "plt.xlabel('length of samples')\n",
    "plt.ylabel('number of samples')\n",
    "plt.show()"
   ]
  },
  {
   "cell_type": "markdown",
   "metadata": {},
   "source": [
    "## 모델"
   ]
  },
  {
   "cell_type": "code",
   "execution_count": 18,
   "metadata": {},
   "outputs": [
    {
     "name": "stdout",
     "output_type": "stream",
     "text": [
      "Train on 8982 samples, validate on 2246 samples\n",
      "Epoch 1/20\n",
      "8982/8982 [==============================] - 45s 5ms/sample - loss: 2.6165 - acc: 0.3467 - val_loss: 2.4151 - val_acc: 0.3620\n",
      "Epoch 2/20\n",
      "8982/8982 [==============================] - 45s 5ms/sample - loss: 2.1893 - acc: 0.4373 - val_loss: 2.0400 - val_acc: 0.4898\n",
      "Epoch 3/20\n",
      "8982/8982 [==============================] - 44s 5ms/sample - loss: 1.9651 - acc: 0.5048 - val_loss: 1.8624 - val_acc: 0.5209\n",
      "Epoch 4/20\n",
      "8982/8982 [==============================] - 44s 5ms/sample - loss: 1.7709 - acc: 0.5404 - val_loss: 1.7419 - val_acc: 0.5401\n",
      "Epoch 5/20\n",
      "8982/8982 [==============================] - 44s 5ms/sample - loss: 1.6839 - acc: 0.5651 - val_loss: 1.7125 - val_acc: 0.5650\n",
      "Epoch 6/20\n",
      "8982/8982 [==============================] - 45s 5ms/sample - loss: 1.6178 - acc: 0.5789 - val_loss: 1.6145 - val_acc: 0.5988\n",
      "Epoch 7/20\n",
      "8982/8982 [==============================] - 46s 5ms/sample - loss: 1.5170 - acc: 0.6150 - val_loss: 1.5283 - val_acc: 0.6100\n",
      "Epoch 8/20\n",
      "8982/8982 [==============================] - 45s 5ms/sample - loss: 1.4082 - acc: 0.6394 - val_loss: 1.4784 - val_acc: 0.6309\n",
      "Epoch 9/20\n",
      "8982/8982 [==============================] - 46s 5ms/sample - loss: 1.3159 - acc: 0.6649 - val_loss: 1.4472 - val_acc: 0.6389\n",
      "Epoch 10/20\n",
      "8982/8982 [==============================] - 46s 5ms/sample - loss: 1.2328 - acc: 0.6924 - val_loss: 1.3158 - val_acc: 0.6781\n",
      "Epoch 11/20\n",
      "8982/8982 [==============================] - 46s 5ms/sample - loss: 1.1460 - acc: 0.7153 - val_loss: 1.2879 - val_acc: 0.6825\n",
      "Epoch 12/20\n",
      "8982/8982 [==============================] - 46s 5ms/sample - loss: 1.0825 - acc: 0.7330 - val_loss: 1.2898 - val_acc: 0.6763\n",
      "Epoch 13/20\n",
      "8982/8982 [==============================] - 47s 5ms/sample - loss: 1.0338 - acc: 0.7404 - val_loss: 1.2102 - val_acc: 0.7044\n",
      "Epoch 14/20\n",
      "8982/8982 [==============================] - 46s 5ms/sample - loss: 0.9785 - acc: 0.7571 - val_loss: 1.1940 - val_acc: 0.7110\n",
      "Epoch 15/20\n",
      "8982/8982 [==============================] - 46s 5ms/sample - loss: 0.9191 - acc: 0.7715 - val_loss: 1.1821 - val_acc: 0.7137\n",
      "Epoch 16/20\n",
      "8982/8982 [==============================] - 47s 5ms/sample - loss: 0.8853 - acc: 0.7796 - val_loss: 1.1907 - val_acc: 0.7110\n",
      "Epoch 17/20\n",
      "8982/8982 [==============================] - 49s 5ms/sample - loss: 0.8350 - acc: 0.7914 - val_loss: 1.1788 - val_acc: 0.7106\n",
      "Epoch 18/20\n",
      "8982/8982 [==============================] - 48s 5ms/sample - loss: 0.7987 - acc: 0.7976 - val_loss: 1.2234 - val_acc: 0.7084\n",
      "Epoch 19/20\n",
      "8982/8982 [==============================] - 48s 5ms/sample - loss: 0.7665 - acc: 0.8079 - val_loss: 1.1765 - val_acc: 0.7186\n",
      "Epoch 20/20\n",
      "8982/8982 [==============================] - 47s 5ms/sample - loss: 0.7281 - acc: 0.8165 - val_loss: 1.2013 - val_acc: 0.7142\n"
     ]
    }
   ],
   "source": [
    "from keras.preprocessing import sequence\n",
    "from keras.utils.np_utils import to_categorical\n",
    "\n",
    "# 데이터 전처리\n",
    "max_len = 100\n",
    "x_train = sequence.pad_sequences(X_train, maxlen=max_len)\n",
    "x_test = sequence.pad_sequences(X_test, maxlen=max_len)\n",
    "\n",
    "# 원-핫 인코딩\n",
    "y_train = to_categorical(Y_train)\n",
    "y_test = to_categorical(Y_test)\n",
    "\n",
    "model = Sequential()\n",
    "model.add(Embedding(1000, 100))\n",
    "model.add(LSTM(100, activation='tanh'))\n",
    "model.add(Dense(46, activation='softmax'))\n",
    "model.compile(loss='categorical_crossentropy', optimizer='adam', metrics=['accuracy'])\n",
    "history = model.fit(x_train, y_train, batch_size=100, epochs=20, validation_data=(x_test, y_test))"
   ]
  },
  {
   "cell_type": "code",
   "execution_count": 20,
   "metadata": {},
   "outputs": [
    {
     "name": "stdout",
     "output_type": "stream",
     "text": [
      "2246/2246 [==============================] - 6s 3ms/sample - loss: 1.2013 - acc: 0.7142\n",
      "\n",
      " Test Accuracy: 0.7142\n"
     ]
    }
   ],
   "source": [
    "# 테스트 정확도 출력\n",
    "print(\"\\n Test Accuracy: %.4f\" % (model.evaluate(x_test, y_test)[1]))"
   ]
  },
  {
   "cell_type": "code",
   "execution_count": 22,
   "metadata": {},
   "outputs": [
    {
     "data": {
      "image/png": "[encoded data removed]",
      "text/plain": [
       "<Figure size 432x288 with 1 Axes>"
      ]
     },
     "metadata": {},
     "output_type": "display_data"
    }
   ],
   "source": [
    "import numpy\n",
    "\n",
    "y_vloss = history.history['val_loss']\n",
    "y_loss = history.history['loss']\n",
    "  \n",
    "\n",
    "x_len = numpy.arange(len(y_loss))\n",
    "plt.plot(x_len, y_vloss, marker='.', c=\"red\", label='Testset_loss')\n",
    "plt.plot(x_len, y_loss, marker='.', c=\"blue\", label='Trainset_loss')\n",
    "plt.grid()\n",
    "plt.xlabel('epoch')\n",
    "plt.ylabel('loss')\n",
    "plt.show()"
   ]
  }
 ],
 "metadata": {
  "kernelspec": {
   "display_name": "Python 3",
   "language": "python",
   "name": "python3"
  },
  "language_info": {
   "codemirror_mode": {
    "name": "ipython",
    "version": 3
   },
   "file_extension": ".py",
   "mimetype": "text/x-python",
   "name": "python",
   "nbconvert_exporter": "python",
   "pygments_lexer": "ipython3",
   "version": "3.6.2"
  }
 },
 "nbformat": 4,
 "nbformat_minor": 2
}
